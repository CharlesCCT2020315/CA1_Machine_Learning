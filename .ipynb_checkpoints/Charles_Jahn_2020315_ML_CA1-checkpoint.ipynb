{
 "cells": [
  {
   "cell_type": "markdown",
   "id": "bd082c04",
   "metadata": {},
   "source": [
    "## Machine Learning CA1\n",
    "\n",
    "Student: Charles Franklin Jahn 2020315\n",
    "\n",
    "Lecturer: David Mcquaid\n",
    "\n",
    "CCT College Dublin\n",
    "\n",
    "BSc (Hons) in Computing in IT - 4nd Year\n",
    "\n",
    "22/04/2023"
   ]
  },
  {
   "cell_type": "code",
   "execution_count": null,
   "id": "f21985df",
   "metadata": {},
   "outputs": [],
   "source": [
    "import pandas as pd\n",
    "import numpy as np\n",
    "import seaborn as sns\n",
    "import matplotlib.pyplot as plt"
   ]
  },
  {
   "cell_type": "code",
   "execution_count": null,
   "id": "b556f699",
   "metadata": {},
   "outputs": [],
   "source": [
    "df = pd.read_csv(\"log2.csv\")\n",
    "\n",
    "print(df.head())"
   ]
  },
  {
   "cell_type": "code",
   "execution_count": null,
   "id": "54d4dcb2",
   "metadata": {},
   "outputs": [],
   "source": [
    "print(df.describe())"
   ]
  },
  {
   "cell_type": "code",
   "execution_count": null,
   "id": "b715bd9e",
   "metadata": {},
   "outputs": [],
   "source": [
    "print(df.info())"
   ]
  },
  {
   "cell_type": "code",
   "execution_count": null,
   "id": "12b0c8a2",
   "metadata": {},
   "outputs": [],
   "source": [
    "sns.countplot(x='Ação', data=df)\n",
    "plt.title('Distribuição da Variável Alvo')\n",
    "plt.show()"
   ]
  },
  {
   "cell_type": "code",
   "execution_count": null,
   "id": "ad5f1068",
   "metadata": {},
   "outputs": [],
   "source": []
  },
  {
   "cell_type": "markdown",
   "id": "08140ca2",
   "metadata": {},
   "source": [
    "## References:\n",
    "\n",
    "\n",
    "\n",
    "## GitHub:\n",
    "https://github.com/CharlesCCT2020315/CA1_Machine_Learning"
   ]
  }
 ],
 "metadata": {
  "kernelspec": {
   "display_name": "Python 3 (ipykernel)",
   "language": "python",
   "name": "python3"
  },
  "language_info": {
   "codemirror_mode": {
    "name": "ipython",
    "version": 3
   },
   "file_extension": ".py",
   "mimetype": "text/x-python",
   "name": "python",
   "nbconvert_exporter": "python",
   "pygments_lexer": "ipython3",
   "version": "3.9.7"
  }
 },
 "nbformat": 4,
 "nbformat_minor": 5
}
