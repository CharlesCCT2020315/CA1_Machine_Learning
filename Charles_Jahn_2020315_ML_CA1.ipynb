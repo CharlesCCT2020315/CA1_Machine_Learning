{
 "cells": [
  {
   "cell_type": "markdown",
   "id": "bd082c04",
   "metadata": {},
   "source": [
    "## Machine Learning CA1\n",
    "\n",
    "Student: Charles Franklin Jahn 2020315\n",
    "\n",
    "Lecturer: David Mcquaid\n",
    "\n",
    "CCT College Dublin\n",
    "\n",
    "BSc (Hons) in Computing in IT - 4nd Year\n",
    "\n",
    "22/04/2023"
   ]
  },
  {
   "cell_type": "code",
   "execution_count": null,
   "id": "55c554ad",
   "metadata": {},
   "outputs": [],
   "source": []
  },
  {
   "cell_type": "markdown",
   "id": "08140ca2",
   "metadata": {},
   "source": [
    "## References:\n",
    "\n",
    "\n",
    "\n",
    "## GitHub:\n",
    "https://github.com/CharlesCCT2020315/CA1_Machine_Learning"
   ]
  },
  {
   "cell_type": "code",
   "execution_count": null,
   "id": "95599818",
   "metadata": {},
   "outputs": [],
   "source": []
  }
 ],
 "metadata": {
  "kernelspec": {
   "display_name": "Python 3 (ipykernel)",
   "language": "python",
   "name": "python3"
  },
  "language_info": {
   "codemirror_mode": {
    "name": "ipython",
    "version": 3
   },
   "file_extension": ".py",
   "mimetype": "text/x-python",
   "name": "python",
   "nbconvert_exporter": "python",
   "pygments_lexer": "ipython3",
   "version": "3.9.7"
  }
 },
 "nbformat": 4,
 "nbformat_minor": 5
}
