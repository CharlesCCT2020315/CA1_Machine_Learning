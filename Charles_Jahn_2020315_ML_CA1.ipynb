{
 "cells": [
  {
   "cell_type": "markdown",
   "id": "bd082c04",
   "metadata": {},
   "source": [
    "## Machine Learning CA1\n",
    "\n",
    "Student: Charles Franklin Jahn 2020315\n",
    "\n",
    "Lecturer: David Mcquaid\n",
    "\n",
    "CCT College Dublin\n",
    "\n",
    "BSc (Hons) in Computing in IT - 4nd Year\n",
    "\n",
    "22/04/2023"
   ]
  },
  {
   "cell_type": "code",
   "execution_count": 1,
   "id": "f1e4091e",
   "metadata": {},
   "outputs": [
    {
     "name": "stderr",
     "output_type": "stream",
     "text": [
      "C:\\Users\\charl\\anaconda3\\lib\\site-packages\\scipy\\__init__.py:146: UserWarning: A NumPy version >=1.16.5 and <1.23.0 is required for this version of SciPy (detected version 1.26.4\n",
      "  warnings.warn(f\"A NumPy version >={np_minversion} and <{np_maxversion}\"\n"
     ]
    }
   ],
   "source": [
    "import pandas as pd\n",
    "import numpy as np\n",
    "import seaborn as sns\n",
    "import matplotlib.pyplot as plt\n",
    "from sklearn.preprocessing import LabelEncoder\n",
    "from sklearn.model_selection import train_test_split\n",
    "from sklearn.ensemble import RandomForestClassifier\n",
    "from sklearn.svm import SVC\n",
    "from sklearn.metrics import accuracy_score, classification_report\n",
    "from sklearn.metrics import precision_recall_curve, average_precision_score"
   ]
  },
  {
   "cell_type": "markdown",
   "id": "96aac20a",
   "metadata": {},
   "source": [
    "### Analysis\n",
    "After the exploratory analysis, I found that the data set has no missing values and is mainly composed of numerical variables, with the exception of the “Action” column, which is categorical. \n",
    "\n",
    "The distribution and variability of data can be understood by descriptive statistics, and the behavior of the target class \"Action\" can be influenced by the type of parameters such as source and destination ports, bytes transmitted and received, and elapsed time. \n",
    "It is important to understand these properties in order to select and modify classification algorithms in a way that best models stock classification behavior using the provided attributes.\n",
    "\n",
    "The distribution of \"Action\" values can be visualized in a graph, highlighting the predominance of the \"allow\" action and the total absence of the \"reset-both\" action. Furthermore, it is observed that the \"drop\" and \"deny\" actions are very close in terms of frequency, suggesting the importance of distinguishing between these two classes for an accurate classification. These observations provide valuable insights for the selection and tuning of classification algorithms."
   ]
  },
  {
   "cell_type": "code",
   "execution_count": 2,
   "id": "5f2f5071",
   "metadata": {},
   "outputs": [
    {
     "data": {
      "text/html": [
       "<div>\n",
       "<style scoped>\n",
       "    .dataframe tbody tr th:only-of-type {\n",
       "        vertical-align: middle;\n",
       "    }\n",
       "\n",
       "    .dataframe tbody tr th {\n",
       "        vertical-align: top;\n",
       "    }\n",
       "\n",
       "    .dataframe thead th {\n",
       "        text-align: right;\n",
       "    }\n",
       "</style>\n",
       "<table border=\"1\" class=\"dataframe\">\n",
       "  <thead>\n",
       "    <tr style=\"text-align: right;\">\n",
       "      <th></th>\n",
       "      <th>Source Port</th>\n",
       "      <th>Destination Port</th>\n",
       "      <th>NAT Source Port</th>\n",
       "      <th>NAT Destination Port</th>\n",
       "      <th>Bytes</th>\n",
       "      <th>Bytes Sent</th>\n",
       "      <th>Bytes Received</th>\n",
       "      <th>Packets</th>\n",
       "      <th>Elapsed Time (sec)</th>\n",
       "      <th>pkts_sent</th>\n",
       "      <th>pkts_received</th>\n",
       "      <th>Action</th>\n",
       "    </tr>\n",
       "  </thead>\n",
       "  <tbody>\n",
       "    <tr>\n",
       "      <th>0</th>\n",
       "      <td>57222</td>\n",
       "      <td>53</td>\n",
       "      <td>54587</td>\n",
       "      <td>53</td>\n",
       "      <td>177</td>\n",
       "      <td>94</td>\n",
       "      <td>83</td>\n",
       "      <td>2</td>\n",
       "      <td>30</td>\n",
       "      <td>1</td>\n",
       "      <td>1</td>\n",
       "      <td>allow</td>\n",
       "    </tr>\n",
       "    <tr>\n",
       "      <th>1</th>\n",
       "      <td>56258</td>\n",
       "      <td>3389</td>\n",
       "      <td>56258</td>\n",
       "      <td>3389</td>\n",
       "      <td>4768</td>\n",
       "      <td>1600</td>\n",
       "      <td>3168</td>\n",
       "      <td>19</td>\n",
       "      <td>17</td>\n",
       "      <td>10</td>\n",
       "      <td>9</td>\n",
       "      <td>allow</td>\n",
       "    </tr>\n",
       "    <tr>\n",
       "      <th>2</th>\n",
       "      <td>6881</td>\n",
       "      <td>50321</td>\n",
       "      <td>43265</td>\n",
       "      <td>50321</td>\n",
       "      <td>238</td>\n",
       "      <td>118</td>\n",
       "      <td>120</td>\n",
       "      <td>2</td>\n",
       "      <td>1199</td>\n",
       "      <td>1</td>\n",
       "      <td>1</td>\n",
       "      <td>allow</td>\n",
       "    </tr>\n",
       "    <tr>\n",
       "      <th>3</th>\n",
       "      <td>50553</td>\n",
       "      <td>3389</td>\n",
       "      <td>50553</td>\n",
       "      <td>3389</td>\n",
       "      <td>3327</td>\n",
       "      <td>1438</td>\n",
       "      <td>1889</td>\n",
       "      <td>15</td>\n",
       "      <td>17</td>\n",
       "      <td>8</td>\n",
       "      <td>7</td>\n",
       "      <td>allow</td>\n",
       "    </tr>\n",
       "    <tr>\n",
       "      <th>4</th>\n",
       "      <td>50002</td>\n",
       "      <td>443</td>\n",
       "      <td>45848</td>\n",
       "      <td>443</td>\n",
       "      <td>25358</td>\n",
       "      <td>6778</td>\n",
       "      <td>18580</td>\n",
       "      <td>31</td>\n",
       "      <td>16</td>\n",
       "      <td>13</td>\n",
       "      <td>18</td>\n",
       "      <td>allow</td>\n",
       "    </tr>\n",
       "  </tbody>\n",
       "</table>\n",
       "</div>"
      ],
      "text/plain": [
       "   Source Port  Destination Port  NAT Source Port  NAT Destination Port  \\\n",
       "0        57222                53            54587                    53   \n",
       "1        56258              3389            56258                  3389   \n",
       "2         6881             50321            43265                 50321   \n",
       "3        50553              3389            50553                  3389   \n",
       "4        50002               443            45848                   443   \n",
       "\n",
       "   Bytes  Bytes Sent  Bytes Received  Packets  Elapsed Time (sec)  pkts_sent  \\\n",
       "0    177          94              83        2                  30          1   \n",
       "1   4768        1600            3168       19                  17         10   \n",
       "2    238         118             120        2                1199          1   \n",
       "3   3327        1438            1889       15                  17          8   \n",
       "4  25358        6778           18580       31                  16         13   \n",
       "\n",
       "   pkts_received Action  \n",
       "0              1  allow  \n",
       "1              9  allow  \n",
       "2              1  allow  \n",
       "3              7  allow  \n",
       "4             18  allow  "
      ]
     },
     "execution_count": 2,
     "metadata": {},
     "output_type": "execute_result"
    }
   ],
   "source": [
    "df = pd.read_csv(\"log2.csv\")\n",
    "df.head()"
   ]
  },
  {
   "cell_type": "code",
   "execution_count": 3,
   "id": "9314818f",
   "metadata": {},
   "outputs": [
    {
     "data": {
      "text/html": [
       "<div>\n",
       "<style scoped>\n",
       "    .dataframe tbody tr th:only-of-type {\n",
       "        vertical-align: middle;\n",
       "    }\n",
       "\n",
       "    .dataframe tbody tr th {\n",
       "        vertical-align: top;\n",
       "    }\n",
       "\n",
       "    .dataframe thead th {\n",
       "        text-align: right;\n",
       "    }\n",
       "</style>\n",
       "<table border=\"1\" class=\"dataframe\">\n",
       "  <thead>\n",
       "    <tr style=\"text-align: right;\">\n",
       "      <th></th>\n",
       "      <th>Source Port</th>\n",
       "      <th>Destination Port</th>\n",
       "      <th>NAT Source Port</th>\n",
       "      <th>NAT Destination Port</th>\n",
       "      <th>Bytes</th>\n",
       "      <th>Bytes Sent</th>\n",
       "      <th>Bytes Received</th>\n",
       "      <th>Packets</th>\n",
       "      <th>Elapsed Time (sec)</th>\n",
       "      <th>pkts_sent</th>\n",
       "      <th>pkts_received</th>\n",
       "    </tr>\n",
       "  </thead>\n",
       "  <tbody>\n",
       "    <tr>\n",
       "      <th>count</th>\n",
       "      <td>65532.000000</td>\n",
       "      <td>65532.000000</td>\n",
       "      <td>65532.000000</td>\n",
       "      <td>65532.000000</td>\n",
       "      <td>6.553200e+04</td>\n",
       "      <td>6.553200e+04</td>\n",
       "      <td>6.553200e+04</td>\n",
       "      <td>6.553200e+04</td>\n",
       "      <td>65532.000000</td>\n",
       "      <td>65532.000000</td>\n",
       "      <td>65532.000000</td>\n",
       "    </tr>\n",
       "    <tr>\n",
       "      <th>mean</th>\n",
       "      <td>49391.969343</td>\n",
       "      <td>10577.385812</td>\n",
       "      <td>19282.972761</td>\n",
       "      <td>2671.049930</td>\n",
       "      <td>9.712395e+04</td>\n",
       "      <td>2.238580e+04</td>\n",
       "      <td>7.473815e+04</td>\n",
       "      <td>1.028660e+02</td>\n",
       "      <td>65.833577</td>\n",
       "      <td>41.399530</td>\n",
       "      <td>61.466505</td>\n",
       "    </tr>\n",
       "    <tr>\n",
       "      <th>std</th>\n",
       "      <td>15255.712537</td>\n",
       "      <td>18466.027039</td>\n",
       "      <td>21970.689669</td>\n",
       "      <td>9739.162278</td>\n",
       "      <td>5.618439e+06</td>\n",
       "      <td>3.828139e+06</td>\n",
       "      <td>2.463208e+06</td>\n",
       "      <td>5.133002e+03</td>\n",
       "      <td>302.461762</td>\n",
       "      <td>3218.871288</td>\n",
       "      <td>2223.332271</td>\n",
       "    </tr>\n",
       "    <tr>\n",
       "      <th>min</th>\n",
       "      <td>0.000000</td>\n",
       "      <td>0.000000</td>\n",
       "      <td>0.000000</td>\n",
       "      <td>0.000000</td>\n",
       "      <td>6.000000e+01</td>\n",
       "      <td>6.000000e+01</td>\n",
       "      <td>0.000000e+00</td>\n",
       "      <td>1.000000e+00</td>\n",
       "      <td>0.000000</td>\n",
       "      <td>1.000000</td>\n",
       "      <td>0.000000</td>\n",
       "    </tr>\n",
       "    <tr>\n",
       "      <th>25%</th>\n",
       "      <td>49183.000000</td>\n",
       "      <td>80.000000</td>\n",
       "      <td>0.000000</td>\n",
       "      <td>0.000000</td>\n",
       "      <td>6.600000e+01</td>\n",
       "      <td>6.600000e+01</td>\n",
       "      <td>0.000000e+00</td>\n",
       "      <td>1.000000e+00</td>\n",
       "      <td>0.000000</td>\n",
       "      <td>1.000000</td>\n",
       "      <td>0.000000</td>\n",
       "    </tr>\n",
       "    <tr>\n",
       "      <th>50%</th>\n",
       "      <td>53776.500000</td>\n",
       "      <td>445.000000</td>\n",
       "      <td>8820.500000</td>\n",
       "      <td>53.000000</td>\n",
       "      <td>1.680000e+02</td>\n",
       "      <td>9.000000e+01</td>\n",
       "      <td>7.900000e+01</td>\n",
       "      <td>2.000000e+00</td>\n",
       "      <td>15.000000</td>\n",
       "      <td>1.000000</td>\n",
       "      <td>1.000000</td>\n",
       "    </tr>\n",
       "    <tr>\n",
       "      <th>75%</th>\n",
       "      <td>58638.000000</td>\n",
       "      <td>15000.000000</td>\n",
       "      <td>38366.250000</td>\n",
       "      <td>443.000000</td>\n",
       "      <td>7.522500e+02</td>\n",
       "      <td>2.100000e+02</td>\n",
       "      <td>4.490000e+02</td>\n",
       "      <td>6.000000e+00</td>\n",
       "      <td>30.000000</td>\n",
       "      <td>3.000000</td>\n",
       "      <td>2.000000</td>\n",
       "    </tr>\n",
       "    <tr>\n",
       "      <th>max</th>\n",
       "      <td>65534.000000</td>\n",
       "      <td>65535.000000</td>\n",
       "      <td>65535.000000</td>\n",
       "      <td>65535.000000</td>\n",
       "      <td>1.269359e+09</td>\n",
       "      <td>9.484772e+08</td>\n",
       "      <td>3.208818e+08</td>\n",
       "      <td>1.036116e+06</td>\n",
       "      <td>10824.000000</td>\n",
       "      <td>747520.000000</td>\n",
       "      <td>327208.000000</td>\n",
       "    </tr>\n",
       "  </tbody>\n",
       "</table>\n",
       "</div>"
      ],
      "text/plain": [
       "        Source Port  Destination Port  NAT Source Port  NAT Destination Port  \\\n",
       "count  65532.000000      65532.000000     65532.000000          65532.000000   \n",
       "mean   49391.969343      10577.385812     19282.972761           2671.049930   \n",
       "std    15255.712537      18466.027039     21970.689669           9739.162278   \n",
       "min        0.000000          0.000000         0.000000              0.000000   \n",
       "25%    49183.000000         80.000000         0.000000              0.000000   \n",
       "50%    53776.500000        445.000000      8820.500000             53.000000   \n",
       "75%    58638.000000      15000.000000     38366.250000            443.000000   \n",
       "max    65534.000000      65535.000000     65535.000000          65535.000000   \n",
       "\n",
       "              Bytes    Bytes Sent  Bytes Received       Packets  \\\n",
       "count  6.553200e+04  6.553200e+04    6.553200e+04  6.553200e+04   \n",
       "mean   9.712395e+04  2.238580e+04    7.473815e+04  1.028660e+02   \n",
       "std    5.618439e+06  3.828139e+06    2.463208e+06  5.133002e+03   \n",
       "min    6.000000e+01  6.000000e+01    0.000000e+00  1.000000e+00   \n",
       "25%    6.600000e+01  6.600000e+01    0.000000e+00  1.000000e+00   \n",
       "50%    1.680000e+02  9.000000e+01    7.900000e+01  2.000000e+00   \n",
       "75%    7.522500e+02  2.100000e+02    4.490000e+02  6.000000e+00   \n",
       "max    1.269359e+09  9.484772e+08    3.208818e+08  1.036116e+06   \n",
       "\n",
       "       Elapsed Time (sec)      pkts_sent  pkts_received  \n",
       "count        65532.000000   65532.000000   65532.000000  \n",
       "mean            65.833577      41.399530      61.466505  \n",
       "std            302.461762    3218.871288    2223.332271  \n",
       "min              0.000000       1.000000       0.000000  \n",
       "25%              0.000000       1.000000       0.000000  \n",
       "50%             15.000000       1.000000       1.000000  \n",
       "75%             30.000000       3.000000       2.000000  \n",
       "max          10824.000000  747520.000000  327208.000000  "
      ]
     },
     "execution_count": 3,
     "metadata": {},
     "output_type": "execute_result"
    }
   ],
   "source": [
    "df.describe()"
   ]
  },
  {
   "cell_type": "code",
   "execution_count": 4,
   "id": "4745b8b8",
   "metadata": {},
   "outputs": [
    {
     "name": "stdout",
     "output_type": "stream",
     "text": [
      "<class 'pandas.core.frame.DataFrame'>\n",
      "RangeIndex: 65532 entries, 0 to 65531\n",
      "Data columns (total 12 columns):\n",
      " #   Column                Non-Null Count  Dtype \n",
      "---  ------                --------------  ----- \n",
      " 0   Source Port           65532 non-null  int64 \n",
      " 1   Destination Port      65532 non-null  int64 \n",
      " 2   NAT Source Port       65532 non-null  int64 \n",
      " 3   NAT Destination Port  65532 non-null  int64 \n",
      " 4   Bytes                 65532 non-null  int64 \n",
      " 5   Bytes Sent            65532 non-null  int64 \n",
      " 6   Bytes Received        65532 non-null  int64 \n",
      " 7   Packets               65532 non-null  int64 \n",
      " 8   Elapsed Time (sec)    65532 non-null  int64 \n",
      " 9   pkts_sent             65532 non-null  int64 \n",
      " 10  pkts_received         65532 non-null  int64 \n",
      " 11  Action                65532 non-null  object\n",
      "dtypes: int64(11), object(1)\n",
      "memory usage: 6.0+ MB\n"
     ]
    }
   ],
   "source": [
    "df.info()"
   ]
  },
  {
   "cell_type": "code",
   "execution_count": 5,
   "id": "b19ee26c",
   "metadata": {},
   "outputs": [
    {
     "data": {
      "image/png": "[encoded data removed]",
      "text/plain": [
       "<Figure size 432x288 with 1 Axes>"
      ]
     },
     "metadata": {
      "needs_background": "light"
     },
     "output_type": "display_data"
    }
   ],
   "source": [
    "sns.countplot(x='Action', data=df)\n",
    "plt.title('Target Variable Distribution')\n",
    "plt.show()"
   ]
  },
  {
   "cell_type": "markdown",
   "id": "878327e2",
   "metadata": {},
   "source": [
    "### Preparing data\n",
    "\n",
    "In the case of this dataset, as there are no missing or 'N/A' values, no preparation was required to deal with this scenario. However, in different datasets it is possible to find missing or 'N/A' values, in such cases if the number of missing data is low, a suitable approach would be to simply discard the rows with missing values. However, if the number of missing data is significant, a common approach would be to use data imputation, such as replacing the missing values with a random value from the same distribution as the existing data or the mean of the data, depending on the context of the data set.\n",
    "\n",
    "In my code, I prepared the data in two steps: encoding the categorical variable \"Action\" using LabelEncode and splitting the data into training and testing sets.\n",
    "\n",
    "Encoding the Categorical Variable \"Action\" using LabelEncoder:\n",
    "The categorical variable \"Action\" needed to be converted to a numeric form so that the classification algorithms could process it. The LabelEncoder assigns a unique integer to each variable category. For example, \"allow\" can be assigned to 0 and \"deny\" to 1, all of this is done automatically by the library itself. This encoding allows algorithms to interpret and process the \"Action\" variable as part of the input characteristics.\n",
    "\n",
    "Division of Data into Training and Test Set:\n",
    "Splitting the data into training and testing sets allows you to evaluate the performance of models on unseen data. The training set is used to train the models, while the test set is used to evaluate the models' performance on data that was not used during training. This helps verify that models generalize well to new data and identify problems such as overfitting or underfitting."
   ]
  },
  {
   "cell_type": "code",
   "execution_count": 6,
   "id": "8e9a329f",
   "metadata": {},
   "outputs": [
    {
     "data": {
      "text/plain": [
       "Source Port             0\n",
       "Destination Port        0\n",
       "NAT Source Port         0\n",
       "NAT Destination Port    0\n",
       "Bytes                   0\n",
       "Bytes Sent              0\n",
       "Bytes Received          0\n",
       "Packets                 0\n",
       "Elapsed Time (sec)      0\n",
       "pkts_sent               0\n",
       "pkts_received           0\n",
       "Action                  0\n",
       "dtype: int64"
      ]
     },
     "execution_count": 6,
     "metadata": {},
     "output_type": "execute_result"
    }
   ],
   "source": [
    "# verify if there is any null value\n",
    "df.isnull().sum()"
   ]
  },
  {
   "cell_type": "markdown",
   "id": "0542ad77",
   "metadata": {},
   "source": [
    "### Testing\n",
    "\n",
    "Test_size=0.2:\n",
    "\n",
    "The RandomForestClassifier (RFC) demonstrated high performance, achieving an accuracy of 99.97% in training and 99.86% in testing with a test set representing 20% of the data. These results indicate that the model was able to accurately capture patterns in the data and generalize well to unseen data.\n",
    "On the other hand, the Support Vector Machine (SVM) obtained a significantly lower accuracy, with 74.49% in training and 75.02% in testing. This suggests that the SVM may not have been able to capture the complexity of the patterns present in the data, resulting in less effective generalization.\n",
    "\n",
    "\n",
    "Test_size=0.3:\n",
    "\n",
    "With an increase in size to 30% of the data, the results remained consistent for the RandomForestClassifier (RFC), with an accuracy of 99.97% in training and 99.83% in testing. This indicates a robust generalization capacity of the model even with a larger portion of test data.\n",
    "The SVM demonstrated a significant improvement in its accuracy, with 89.22% in training and 89.69% in testing. This suggests that with a larger amount of test data, the SVM was able to more effectively learn the underlying patterns in the data and generalize better to new data.\n",
    "\n",
    "\n",
    "Test_size=0.4:\n",
    "\n",
    "With an even larger test set, representing 40% of the data, RandomForestClassifier (RFC) performance remained robust, maintaining a high accuracy of 99.97% in training and 99.80% in testing. This confirms the generalization capacity of the model, even with a larger proportion of test data.\n",
    "The SVM continued to improve its accuracy (compared to 20%), reaching 88.47% in training and 88.91% in testing. Although it still lags behind RFC in terms of accuracy, the performance difference between the two models decreases as the test set increases.\n",
    "\n",
    "\n",
    "With the results, I conclude that RandomForestClassifier tends to outperform Support Vector Machine, regardless of the size of the test set used. However, it is important to consider that SVM performance improves as the test set size increases, indicating a more effective learning ability with a larger amount of data."
   ]
  },
  {
   "cell_type": "code",
   "execution_count": 7,
   "id": "4c1fad5c",
   "metadata": {},
   "outputs": [],
   "source": [
    "le = LabelEncoder()\n",
    "df['Action'] = le.fit_transform(df['Action'])\n",
    "\n",
    "# isolate features and target\n",
    "X = df.drop(columns=['Action'])\n",
    "y = df['Action']\n"
   ]
  },
  {
   "cell_type": "code",
   "execution_count": 8,
   "id": "72364d8b",
   "metadata": {},
   "outputs": [],
   "source": [
    "X_train, X_test, y_train, y_test = train_test_split(X, y, test_size=0.3, random_state=23)"
   ]
  },
  {
   "cell_type": "code",
   "execution_count": 9,
   "id": "0567b14d",
   "metadata": {},
   "outputs": [
    {
     "name": "stdout",
     "output_type": "stream",
     "text": [
      "Random Forest - Accuracy of training: 0.9996730031391698\n",
      "Random Forest - Accuracy of testing: 0.998321464903357\n",
      "Classification Report on Test Set:\n",
      "              precision    recall  f1-score   support\n",
      "\n",
      "           0       1.00      1.00      1.00     11373\n",
      "           1       0.99      1.00      1.00      4474\n",
      "           2       1.00      1.00      1.00      3796\n",
      "           3       1.00      0.24      0.38        17\n",
      "\n",
      "    accuracy                           1.00     19660\n",
      "   macro avg       1.00      0.81      0.84     19660\n",
      "weighted avg       1.00      1.00      1.00     19660\n",
      "\n"
     ]
    }
   ],
   "source": [
    "\n",
    "# Initiating and train using Random Forest\n",
    "rf_model = RandomForestClassifier(random_state=23) \n",
    "rf_model.fit(X_train, y_train)\n",
    "\n",
    "# Checking the results of Random Forest\n",
    "rf_pred_train = rf_model.predict(X_train)\n",
    "rf_pred_test = rf_model.predict(X_test)\n",
    "\n",
    "print(\"Random Forest - Accuracy of training:\", accuracy_score(y_train, rf_pred_train))\n",
    "print(\"Random Forest - Accuracy of testing:\", accuracy_score(y_test, rf_pred_test))\n",
    "print(\"Classification Report on Test Set:\")\n",
    "print(classification_report(y_test, rf_pred_test))\n"
   ]
  },
  {
   "cell_type": "code",
   "execution_count": 10,
   "id": "c8140395",
   "metadata": {},
   "outputs": [
    {
     "name": "stdout",
     "output_type": "stream",
     "text": [
      "SVM - Accuracy of training: 0.8922218346703872\n",
      "SVM - Accuracy of testing: 0.8969481180061037\n",
      "Classification Report on Test Set:\n",
      "              precision    recall  f1-score   support\n",
      "\n",
      "           0       1.00      0.89      0.94     11373\n",
      "           1       0.98      0.84      0.90      4474\n",
      "           2       0.67      1.00      0.80      3796\n",
      "           3       0.00      0.00      0.00        17\n",
      "\n",
      "    accuracy                           0.90     19660\n",
      "   macro avg       0.66      0.68      0.66     19660\n",
      "weighted avg       0.93      0.90      0.90     19660\n",
      "\n"
     ]
    },
    {
     "name": "stderr",
     "output_type": "stream",
     "text": [
      "C:\\Users\\charl\\anaconda3\\lib\\site-packages\\sklearn\\metrics\\_classification.py:1248: UndefinedMetricWarning: Precision and F-score are ill-defined and being set to 0.0 in labels with no predicted samples. Use `zero_division` parameter to control this behavior.\n",
      "  _warn_prf(average, modifier, msg_start, len(result))\n",
      "C:\\Users\\charl\\anaconda3\\lib\\site-packages\\sklearn\\metrics\\_classification.py:1248: UndefinedMetricWarning: Precision and F-score are ill-defined and being set to 0.0 in labels with no predicted samples. Use `zero_division` parameter to control this behavior.\n",
      "  _warn_prf(average, modifier, msg_start, len(result))\n",
      "C:\\Users\\charl\\anaconda3\\lib\\site-packages\\sklearn\\metrics\\_classification.py:1248: UndefinedMetricWarning: Precision and F-score are ill-defined and being set to 0.0 in labels with no predicted samples. Use `zero_division` parameter to control this behavior.\n",
      "  _warn_prf(average, modifier, msg_start, len(result))\n"
     ]
    }
   ],
   "source": [
    "\n",
    "# Initiating and train using SVM\n",
    "svm_model = SVC(random_state=23)\n",
    "svm_model.fit(X_train, y_train)\n",
    "\n",
    "# Checking the results of\n",
    "svm_pred_train = svm_model.predict(X_train)\n",
    "svm_pred_test = svm_model.predict(X_test)\n",
    "\n",
    "print(\"SVM - Accuracy of training:\", accuracy_score(y_train, svm_pred_train))\n",
    "print(\"SVM - Accuracy of testing:\", accuracy_score(y_test, svm_pred_test))\n",
    "print(\"Classification Report on Test Set:\")\n",
    "print(classification_report(y_test, svm_pred_test))\n"
   ]
  },
  {
   "cell_type": "code",
   "execution_count": 11,
   "id": "7c90efa9",
   "metadata": {},
   "outputs": [
    {
     "name": "stdout",
     "output_type": "stream",
     "text": [
      "Accuracy on the test set using the best model: 0.998321464903357\n",
      "Accuracy difference between training and testing set:\n",
      "0.0013515382358127992\n"
     ]
    }
   ],
   "source": [
    "final_model = rf_model  \n",
    "\n",
    "final_pred_test = final_model.predict(X_test)\n",
    "\n",
    "print(\"Accuracy on the test set using the best model:\", accuracy_score(y_test, final_pred_test))\n",
    "print(\"Accuracy difference between training and testing set:\")\n",
    "print(accuracy_score(y_train, final_model.predict(X_train)) - accuracy_score(y_test, final_pred_test))\n"
   ]
  },
  {
   "cell_type": "code",
   "execution_count": 12,
   "id": "e820522d",
   "metadata": {},
   "outputs": [
    {
     "data": {
      "image/png": "[encoded data removed]",
      "text/plain": [
       "<Figure size 576x432 with 1 Axes>"
      ]
     },
     "metadata": {
      "needs_background": "light"
     },
     "output_type": "display_data"
    }
   ],
   "source": [
    "from sklearn.metrics import confusion_matrix\n",
    "import seaborn as sns\n",
    "\n",
    "# Calculate confusion matrix for the final model\n",
    "conf_matrix = confusion_matrix(y_test, final_pred_test)\n",
    "\n",
    "# Plot confusion matrix\n",
    "plt.figure(figsize=(8, 6))\n",
    "sns.heatmap(conf_matrix, annot=True, cmap=\"Blues\", fmt=\"d\", cbar=False)\n",
    "plt.title(\"Confusion matrix\")\n",
    "plt.xlabel(\"Predicted\")\n",
    "plt.ylabel(\"Real\")\n",
    "plt.show()\n"
   ]
  },
  {
   "cell_type": "code",
   "execution_count": null,
   "id": "eaf29d85",
   "metadata": {},
   "outputs": [],
   "source": []
  },
  {
   "cell_type": "markdown",
   "id": "08140ca2",
   "metadata": {},
   "source": [
    "## References:\n",
    "\n",
    "\n",
    "\n",
    "## GitHub:\n",
    "https://github.com/CharlesCCT2020315/CA1_Machine_Learning"
   ]
  }
 ],
 "metadata": {
  "kernelspec": {
   "display_name": "Python 3 (ipykernel)",
   "language": "python",
   "name": "python3"
  },
  "language_info": {
   "codemirror_mode": {
    "name": "ipython",
    "version": 3
   },
   "file_extension": ".py",
   "mimetype": "text/x-python",
   "name": "python",
   "nbconvert_exporter": "python",
   "pygments_lexer": "ipython3",
   "version": "3.9.7"
  }
 },
 "nbformat": 4,
 "nbformat_minor": 5
}
