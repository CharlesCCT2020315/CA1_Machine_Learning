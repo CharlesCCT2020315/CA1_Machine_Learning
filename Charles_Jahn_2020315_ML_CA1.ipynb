{
 "cells": [
  {
   "cell_type": "markdown",
   "id": "bd082c04",
   "metadata": {},
   "source": [
    "## Machine Learning CA1\n",
    "\n",
    "Student: Charles Franklin Jahn 2020315\n",
    "\n",
    "Lecturer: David Mcquaid\n",
    "\n",
    "CCT College Dublin\n",
    "\n",
    "BSc (Hons) in Computing in IT - 4nd Year\n",
    "\n",
    "22/04/2023"
   ]
  },
  {
   "cell_type": "code",
   "execution_count": null,
   "id": "ce7101ea",
   "metadata": {},
   "outputs": [],
   "source": []
  },
  {
   "cell_type": "markdown",
   "id": "08140ca2",
   "metadata": {},
   "source": [
    "## References:\n",
    "\n",
    "1 - Sari, S. (2021). Tree vs Graph Data Structure | Baeldung on Computer Science. [online] www.baeldung.com. Available at: https://www.baeldung.com/cs/tree-vs-graph-data-structure.\n",
    "\n",
    "2 - Sharma, A. (2023). Difference Between Tree and Graph in Data Structure. [online] PrepBytes Blog. Available at: https://www.prepbytes.com/blog/data-structure/difference-between-tree-and-graph-in-data-structure/ [Accessed 8 Nov. 2023].\n",
    "\n",
    "3 - baeldung (2020). Graph Data Structures | Baeldung on Computer Science. [online] www.baeldung.com. Available at: https://www.baeldung.com/cs/graphs.\n",
    "\n",
    "4 - linkurious.com. (n.d.). Graph visualization: why it matters. [online] Available at: https://linkurious.com/blog/why-graph-visualization-matters/.\n",
    "\n",
    "5 - baeldung (2017). Dijkstra Algorithm in Java | Baeldung. [online] www.baeldung.com. Available at: https://www.baeldung.com/java-dijkstra.\n",
    "\n",
    "6 - Simplilearn.com. (2021). A* Algorithm in Artificial Intelligence You Must Know in 2022. [online] Available at: https://www.simplilearn.com/tutorials/artificial-intelligence-tutorial/a-star-algorithm.\n",
    "\n",
    "7 - Brilliant.org. (2016). A* Search | Brilliant Math & Science Wiki. [online] Available at: https://brilliant.org/wiki/a-star-search/.\n",
    "\n",
    "8 - Swift, N. (2017). Easy A* (star) Pathfinding. [online] Medium. Available at: https://medium.com/@nicholas.w.swift/easy-a-star-pathfinding-7e6689c7f7b2.\n",
    "\n",
    "9 - Simic, M. (2021). Dijkstra vs. A* – Pathfinding | Baeldung on Computer Science. [online] www.baeldung.com. Available at: https://www.baeldung.com/cs/dijkstra-vs-a-pathfinding.\n",
    "\n",
    "\n",
    "## GitHub:\n",
    "https://github.com/CharlesCCT2020315/CA2"
   ]
  }
 ],
 "metadata": {
  "kernelspec": {
   "display_name": "Python 3 (ipykernel)",
   "language": "python",
   "name": "python3"
  },
  "language_info": {
   "codemirror_mode": {
    "name": "ipython",
    "version": 3
   },
   "file_extension": ".py",
   "mimetype": "text/x-python",
   "name": "python",
   "nbconvert_exporter": "python",
   "pygments_lexer": "ipython3",
   "version": "3.9.7"
  }
 },
 "nbformat": 4,
 "nbformat_minor": 5
}
